{
 "cells": [
  {
   "cell_type": "code",
   "execution_count": 2,
   "metadata": {},
   "outputs": [],
   "source": [
    "import requests, json\n"
   ]
  },
  {
   "cell_type": "code",
   "execution_count": 3,
   "metadata": {},
   "outputs": [
    {
     "name": "stdout",
     "output_type": "stream",
     "text": [
      "{'batchcomplete': True, 'continue': {'sroffset': 10, 'continue': '-||'}, 'query': {'searchinfo': {'totalhits': 90277}, 'search': [{'ns': 0, 'title': 'Apple', 'pageid': 18978754, 'size': 82576, 'wordcount': 8255, 'snippet': 'found today. <span class=\"searchmatch\">Apples</span> have been grown for thousands of years in Asia and Europe and were brought to North America by European colonists. <span class=\"searchmatch\">Apples</span> have religious', 'timestamp': '2023-01-01T05:17:07Z'}, {'ns': 0, 'title': 'Apples to Apples', 'pageid': 277985, 'size': 5131, 'wordcount': 514, 'snippet': '<span class=\"searchmatch\">Apples</span> to <span class=\"searchmatch\">Apples</span> is a party game originally published by Out of the Box Publishing Inc., and now by Mattel. Players start with a hand of seven &quot;red apple&quot;', 'timestamp': '2022-10-29T22:03:44Z'}, {'ns': 0, 'title': 'Apple Inc.', 'pageid': 856, 'size': 297808, 'wordcount': 27921, 'snippet': 'Dispute, Two <span class=\"searchmatch\">Apples</span> Work It Out&quot;. The New York Times. Archived from the original on February 7, 2007. Retrieved October 21, 2016. &quot;<span class=\"searchmatch\">Apple</span> Company&quot;. Operating', 'timestamp': '2023-01-07T19:18:54Z'}, {'ns': 0, 'title': 'Candy apple', 'pageid': 1127111, 'size': 7073, 'wordcount': 663, 'snippet': 'Candy <span class=\"searchmatch\">apples</span> (or toffee <span class=\"searchmatch\">apples</span> in Commonwealth English) are whole <span class=\"searchmatch\">apples</span> covered in a sugar candy coating, with a stick inserted as a handle. These are', 'timestamp': '2022-11-22T13:19:29Z'}, {'ns': 0, 'title': 'Apple (disambiguation)', 'pageid': 36071326, 'size': 4303, 'wordcount': 495, 'snippet': 'group The <span class=\"searchmatch\">Apples</span> in Stereo, originally The <span class=\"searchmatch\">Apples</span>, an American rock group <span class=\"searchmatch\">Apple</span> (A. G. Cook album), 2020 <span class=\"searchmatch\">Apple</span> (Mother Love Bone album), 1990 <span class=\"searchmatch\">Apples</span> (album)', 'timestamp': '2023-01-02T18:29:26Z'}, {'ns': 0, 'title': 'Malus', 'pageid': 289445, 'size': 22429, 'wordcount': 1399, 'snippet': 'domesticated orchard <span class=\"searchmatch\">apple</span>, crab <span class=\"searchmatch\">apples</span>, wild <span class=\"searchmatch\">apples</span>, and rainberries. The genus is native to the temperate zone of the Northern Hemisphere. <span class=\"searchmatch\">Apple</span> trees are typically', 'timestamp': '2022-12-19T18:04:10Z'}, {'ns': 0, 'title': 'Apples and oranges', 'pageid': 3556316, 'size': 11032, 'wordcount': 1245, 'snippet': 'oranges (to compare <span class=\"searchmatch\">apples</span> with oranges), while in European French the idiom says comparer des pommes et des poires (to compare <span class=\"searchmatch\">apples</span> and pears) or comparer', 'timestamp': '2022-09-17T14:56:35Z'}, {'ns': 0, 'title': 'Apple juice', 'pageid': 454875, 'size': 9005, 'wordcount': 964, 'snippet': '8\\xa0US\\xa0fl\\xa0oz) of juice. After the <span class=\"searchmatch\">apples</span> are picked, they are washed and transported to the processing facility. The <span class=\"searchmatch\">apples</span> are then pressed and juiced right', 'timestamp': '2022-11-25T22:04:56Z'}, {'ns': 0, 'title': 'Apples, Vaud', 'pageid': 539724, 'size': 23789, 'wordcount': 2784, 'snippet': '<span class=\"searchmatch\">Apples</span> is a former municipality in the district of Morges in the canton of Vaud in Switzerland. On 1 July 2021 the former municipalities of <span class=\"searchmatch\">Apples</span>, Cottens', 'timestamp': '2021-12-23T13:37:42Z'}, {'ns': 0, 'title': 'Apple silicon', 'pageid': 32327247, 'size': 185355, 'wordcount': 11600, 'snippet': '<span class=\"searchmatch\">Apple</span> silicon is a series of system on a chip (SoC) and system in a package (SiP) processors designed by <span class=\"searchmatch\">Apple</span> Inc., mainly using the ARM architecture', 'timestamp': '2022-12-24T19:32:22Z'}]}}\n"
     ]
    }
   ],
   "source": [
    "url = \"https://en.wikipedia.org/w/api.php?action=query&format=json&list=search&utf8=1&formatversion=2&srsearch=apples\"\n",
    "response = requests.get(url)\n",
    "data = response.json()\n",
    "\n",
    "print(data)"
   ]
  },
  {
   "cell_type": "code",
   "execution_count": 5,
   "metadata": {},
   "outputs": [
    {
     "name": "stdout",
     "output_type": "stream",
     "text": [
      "{\"batchcomplete\": true, \"continue\": {\"sroffset\": 10, \"continue\": \"-||\"}, \"query\": {\"searchinfo\": {\"totalhits\": 90277}, \"search\": [{\"ns\": 0, \"title\": \"Apple\", \"pageid\": 18978754, \"size\": 82576, \"wordcount\": 8255, \"snippet\": \"found today. <span class=\\\"searchmatch\\\">Apples</span> have been grown for thousands of years in Asia and Europe and were brought to North America by European colonists. <span class=\\\"searchmatch\\\">Apples</span> have religious\", \"timestamp\": \"2023-01-01T05:17:07Z\"}, {\"ns\": 0, \"title\": \"Apples to Apples\", \"pageid\": 277985, \"size\": 5131, \"wordcount\": 514, \"snippet\": \"<span class=\\\"searchmatch\\\">Apples</span> to <span class=\\\"searchmatch\\\">Apples</span> is a party game originally published by Out of the Box Publishing Inc., and now by Mattel. Players start with a hand of seven &quot;red apple&quot;\", \"timestamp\": \"2022-10-29T22:03:44Z\"}, {\"ns\": 0, \"title\": \"Apple Inc.\", \"pageid\": 856, \"size\": 297808, \"wordcount\": 27921, \"snippet\": \"Dispute, Two <span class=\\\"searchmatch\\\">Apples</span> Work It Out&quot;. The New York Times. Archived from the original on February 7, 2007. Retrieved October 21, 2016. &quot;<span class=\\\"searchmatch\\\">Apple</span> Company&quot;. Operating\", \"timestamp\": \"2023-01-07T19:18:54Z\"}, {\"ns\": 0, \"title\": \"Candy apple\", \"pageid\": 1127111, \"size\": 7073, \"wordcount\": 663, \"snippet\": \"Candy <span class=\\\"searchmatch\\\">apples</span> (or toffee <span class=\\\"searchmatch\\\">apples</span> in Commonwealth English) are whole <span class=\\\"searchmatch\\\">apples</span> covered in a sugar candy coating, with a stick inserted as a handle. These are\", \"timestamp\": \"2022-11-22T13:19:29Z\"}, {\"ns\": 0, \"title\": \"Apple (disambiguation)\", \"pageid\": 36071326, \"size\": 4303, \"wordcount\": 495, \"snippet\": \"group The <span class=\\\"searchmatch\\\">Apples</span> in Stereo, originally The <span class=\\\"searchmatch\\\">Apples</span>, an American rock group <span class=\\\"searchmatch\\\">Apple</span> (A. G. Cook album), 2020 <span class=\\\"searchmatch\\\">Apple</span> (Mother Love Bone album), 1990 <span class=\\\"searchmatch\\\">Apples</span> (album)\", \"timestamp\": \"2023-01-02T18:29:26Z\"}, {\"ns\": 0, \"title\": \"Malus\", \"pageid\": 289445, \"size\": 22429, \"wordcount\": 1399, \"snippet\": \"domesticated orchard <span class=\\\"searchmatch\\\">apple</span>, crab <span class=\\\"searchmatch\\\">apples</span>, wild <span class=\\\"searchmatch\\\">apples</span>, and rainberries. The genus is native to the temperate zone of the Northern Hemisphere. <span class=\\\"searchmatch\\\">Apple</span> trees are typically\", \"timestamp\": \"2022-12-19T18:04:10Z\"}, {\"ns\": 0, \"title\": \"Apples and oranges\", \"pageid\": 3556316, \"size\": 11032, \"wordcount\": 1245, \"snippet\": \"oranges (to compare <span class=\\\"searchmatch\\\">apples</span> with oranges), while in European French the idiom says comparer des pommes et des poires (to compare <span class=\\\"searchmatch\\\">apples</span> and pears) or comparer\", \"timestamp\": \"2022-09-17T14:56:35Z\"}, {\"ns\": 0, \"title\": \"Apple juice\", \"pageid\": 454875, \"size\": 9005, \"wordcount\": 964, \"snippet\": \"8\\u00a0US\\u00a0fl\\u00a0oz) of juice. After the <span class=\\\"searchmatch\\\">apples</span> are picked, they are washed and transported to the processing facility. The <span class=\\\"searchmatch\\\">apples</span> are then pressed and juiced right\", \"timestamp\": \"2022-11-25T22:04:56Z\"}, {\"ns\": 0, \"title\": \"Apples, Vaud\", \"pageid\": 539724, \"size\": 23789, \"wordcount\": 2784, \"snippet\": \"<span class=\\\"searchmatch\\\">Apples</span> is a former municipality in the district of Morges in the canton of Vaud in Switzerland. On 1 July 2021 the former municipalities of <span class=\\\"searchmatch\\\">Apples</span>, Cottens\", \"timestamp\": \"2021-12-23T13:37:42Z\"}, {\"ns\": 0, \"title\": \"Apple silicon\", \"pageid\": 32327247, \"size\": 185355, \"wordcount\": 11600, \"snippet\": \"<span class=\\\"searchmatch\\\">Apple</span> silicon is a series of system on a chip (SoC) and system in a package (SiP) processors designed by <span class=\\\"searchmatch\\\">Apple</span> Inc., mainly using the ARM architecture\", \"timestamp\": \"2022-12-24T19:32:22Z\"}]}}\n"
     ]
    }
   ],
   "source": [
    "jsonData = json.dumps(data)\n",
    "print(jsonData)"
   ]
  },
  {
   "cell_type": "code",
   "execution_count": null,
   "metadata": {},
   "outputs": [],
   "source": []
  }
 ],
 "metadata": {
  "kernelspec": {
   "display_name": "Python 3",
   "language": "python",
   "name": "python3"
  },
  "language_info": {
   "codemirror_mode": {
    "name": "ipython",
    "version": 3
   },
   "file_extension": ".py",
   "mimetype": "text/x-python",
   "name": "python",
   "nbconvert_exporter": "python",
   "pygments_lexer": "ipython3",
   "version": "3.10.2"
  },
  "orig_nbformat": 4,
  "vscode": {
   "interpreter": {
    "hash": "4093d0386277c4062101c3df22317cd4e993e21dd39ef570f534df9ff80d189a"
   }
  }
 },
 "nbformat": 4,
 "nbformat_minor": 2
}
